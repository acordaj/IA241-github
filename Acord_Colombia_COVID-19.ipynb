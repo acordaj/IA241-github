{
 "cells": [
  {
   "cell_type": "markdown",
   "id": "3e4acc37",
   "metadata": {},
   "source": [
    "## Colombia's COVID-19 Data"
   ]
  },
  {
   "cell_type": "code",
   "execution_count": 6,
   "id": "6134c3fc",
   "metadata": {},
   "outputs": [],
   "source": [
    "%matplotlib inline\n",
    "import pandas"
   ]
  },
  {
   "cell_type": "markdown",
   "id": "401cef2e",
   "metadata": {},
   "source": [
    "## Imported Data"
   ]
  },
  {
   "cell_type": "code",
   "execution_count": 7,
   "id": "b5c015d3",
   "metadata": {},
   "outputs": [
    {
     "data": {
      "text/html": [
       "<div>\n",
       "<style scoped>\n",
       "    .dataframe tbody tr th:only-of-type {\n",
       "        vertical-align: middle;\n",
       "    }\n",
       "\n",
       "    .dataframe tbody tr th {\n",
       "        vertical-align: top;\n",
       "    }\n",
       "\n",
       "    .dataframe thead th {\n",
       "        text-align: right;\n",
       "    }\n",
       "</style>\n",
       "<table border=\"1\" class=\"dataframe\">\n",
       "  <thead>\n",
       "    <tr style=\"text-align: right;\">\n",
       "      <th></th>\n",
       "      <th>dateRep</th>\n",
       "      <th>day</th>\n",
       "      <th>month</th>\n",
       "      <th>year</th>\n",
       "      <th>cases</th>\n",
       "      <th>deaths</th>\n",
       "      <th>countriesAndTerritories</th>\n",
       "      <th>geoId</th>\n",
       "      <th>countryterritoryCode</th>\n",
       "      <th>popData2019</th>\n",
       "      <th>continentExp</th>\n",
       "      <th>Cumulative_number_for_14_days_of_COVID-19_cases_per_100000</th>\n",
       "    </tr>\n",
       "  </thead>\n",
       "  <tbody>\n",
       "    <tr>\n",
       "      <th>0</th>\n",
       "      <td>14/12/2020</td>\n",
       "      <td>14</td>\n",
       "      <td>12</td>\n",
       "      <td>2020</td>\n",
       "      <td>746</td>\n",
       "      <td>6</td>\n",
       "      <td>Afghanistan</td>\n",
       "      <td>AF</td>\n",
       "      <td>AFG</td>\n",
       "      <td>38041757.0</td>\n",
       "      <td>Asia</td>\n",
       "      <td>9.013779</td>\n",
       "    </tr>\n",
       "    <tr>\n",
       "      <th>1</th>\n",
       "      <td>13/12/2020</td>\n",
       "      <td>13</td>\n",
       "      <td>12</td>\n",
       "      <td>2020</td>\n",
       "      <td>298</td>\n",
       "      <td>9</td>\n",
       "      <td>Afghanistan</td>\n",
       "      <td>AF</td>\n",
       "      <td>AFG</td>\n",
       "      <td>38041757.0</td>\n",
       "      <td>Asia</td>\n",
       "      <td>7.052776</td>\n",
       "    </tr>\n",
       "    <tr>\n",
       "      <th>2</th>\n",
       "      <td>2020-12-12 00:00:00</td>\n",
       "      <td>12</td>\n",
       "      <td>12</td>\n",
       "      <td>2020</td>\n",
       "      <td>113</td>\n",
       "      <td>11</td>\n",
       "      <td>Afghanistan</td>\n",
       "      <td>AF</td>\n",
       "      <td>AFG</td>\n",
       "      <td>38041757.0</td>\n",
       "      <td>Asia</td>\n",
       "      <td>6.868768</td>\n",
       "    </tr>\n",
       "    <tr>\n",
       "      <th>3</th>\n",
       "      <td>2020-11-12 00:00:00</td>\n",
       "      <td>11</td>\n",
       "      <td>12</td>\n",
       "      <td>2020</td>\n",
       "      <td>63</td>\n",
       "      <td>10</td>\n",
       "      <td>Afghanistan</td>\n",
       "      <td>AF</td>\n",
       "      <td>AFG</td>\n",
       "      <td>38041757.0</td>\n",
       "      <td>Asia</td>\n",
       "      <td>7.134266</td>\n",
       "    </tr>\n",
       "    <tr>\n",
       "      <th>4</th>\n",
       "      <td>2020-10-12 00:00:00</td>\n",
       "      <td>10</td>\n",
       "      <td>12</td>\n",
       "      <td>2020</td>\n",
       "      <td>202</td>\n",
       "      <td>16</td>\n",
       "      <td>Afghanistan</td>\n",
       "      <td>AF</td>\n",
       "      <td>AFG</td>\n",
       "      <td>38041757.0</td>\n",
       "      <td>Asia</td>\n",
       "      <td>6.968658</td>\n",
       "    </tr>\n",
       "    <tr>\n",
       "      <th>...</th>\n",
       "      <td>...</td>\n",
       "      <td>...</td>\n",
       "      <td>...</td>\n",
       "      <td>...</td>\n",
       "      <td>...</td>\n",
       "      <td>...</td>\n",
       "      <td>...</td>\n",
       "      <td>...</td>\n",
       "      <td>...</td>\n",
       "      <td>...</td>\n",
       "      <td>...</td>\n",
       "      <td>...</td>\n",
       "    </tr>\n",
       "    <tr>\n",
       "      <th>61895</th>\n",
       "      <td>25/03/2020</td>\n",
       "      <td>25</td>\n",
       "      <td>3</td>\n",
       "      <td>2020</td>\n",
       "      <td>0</td>\n",
       "      <td>0</td>\n",
       "      <td>Zimbabwe</td>\n",
       "      <td>ZW</td>\n",
       "      <td>ZWE</td>\n",
       "      <td>14645473.0</td>\n",
       "      <td>Africa</td>\n",
       "      <td>NaN</td>\n",
       "    </tr>\n",
       "    <tr>\n",
       "      <th>61896</th>\n",
       "      <td>24/03/2020</td>\n",
       "      <td>24</td>\n",
       "      <td>3</td>\n",
       "      <td>2020</td>\n",
       "      <td>0</td>\n",
       "      <td>1</td>\n",
       "      <td>Zimbabwe</td>\n",
       "      <td>ZW</td>\n",
       "      <td>ZWE</td>\n",
       "      <td>14645473.0</td>\n",
       "      <td>Africa</td>\n",
       "      <td>NaN</td>\n",
       "    </tr>\n",
       "    <tr>\n",
       "      <th>61897</th>\n",
       "      <td>23/03/2020</td>\n",
       "      <td>23</td>\n",
       "      <td>3</td>\n",
       "      <td>2020</td>\n",
       "      <td>0</td>\n",
       "      <td>0</td>\n",
       "      <td>Zimbabwe</td>\n",
       "      <td>ZW</td>\n",
       "      <td>ZWE</td>\n",
       "      <td>14645473.0</td>\n",
       "      <td>Africa</td>\n",
       "      <td>NaN</td>\n",
       "    </tr>\n",
       "    <tr>\n",
       "      <th>61898</th>\n",
       "      <td>22/03/2020</td>\n",
       "      <td>22</td>\n",
       "      <td>3</td>\n",
       "      <td>2020</td>\n",
       "      <td>1</td>\n",
       "      <td>0</td>\n",
       "      <td>Zimbabwe</td>\n",
       "      <td>ZW</td>\n",
       "      <td>ZWE</td>\n",
       "      <td>14645473.0</td>\n",
       "      <td>Africa</td>\n",
       "      <td>NaN</td>\n",
       "    </tr>\n",
       "    <tr>\n",
       "      <th>61899</th>\n",
       "      <td>21/03/2020</td>\n",
       "      <td>21</td>\n",
       "      <td>3</td>\n",
       "      <td>2020</td>\n",
       "      <td>1</td>\n",
       "      <td>0</td>\n",
       "      <td>Zimbabwe</td>\n",
       "      <td>ZW</td>\n",
       "      <td>ZWE</td>\n",
       "      <td>14645473.0</td>\n",
       "      <td>Africa</td>\n",
       "      <td>NaN</td>\n",
       "    </tr>\n",
       "  </tbody>\n",
       "</table>\n",
       "<p>61900 rows × 12 columns</p>\n",
       "</div>"
      ],
      "text/plain": [
       "                   dateRep  day  month  year  cases  deaths  \\\n",
       "0               14/12/2020   14     12  2020    746       6   \n",
       "1               13/12/2020   13     12  2020    298       9   \n",
       "2      2020-12-12 00:00:00   12     12  2020    113      11   \n",
       "3      2020-11-12 00:00:00   11     12  2020     63      10   \n",
       "4      2020-10-12 00:00:00   10     12  2020    202      16   \n",
       "...                    ...  ...    ...   ...    ...     ...   \n",
       "61895           25/03/2020   25      3  2020      0       0   \n",
       "61896           24/03/2020   24      3  2020      0       1   \n",
       "61897           23/03/2020   23      3  2020      0       0   \n",
       "61898           22/03/2020   22      3  2020      1       0   \n",
       "61899           21/03/2020   21      3  2020      1       0   \n",
       "\n",
       "      countriesAndTerritories geoId countryterritoryCode  popData2019  \\\n",
       "0                 Afghanistan    AF                  AFG   38041757.0   \n",
       "1                 Afghanistan    AF                  AFG   38041757.0   \n",
       "2                 Afghanistan    AF                  AFG   38041757.0   \n",
       "3                 Afghanistan    AF                  AFG   38041757.0   \n",
       "4                 Afghanistan    AF                  AFG   38041757.0   \n",
       "...                       ...   ...                  ...          ...   \n",
       "61895                Zimbabwe    ZW                  ZWE   14645473.0   \n",
       "61896                Zimbabwe    ZW                  ZWE   14645473.0   \n",
       "61897                Zimbabwe    ZW                  ZWE   14645473.0   \n",
       "61898                Zimbabwe    ZW                  ZWE   14645473.0   \n",
       "61899                Zimbabwe    ZW                  ZWE   14645473.0   \n",
       "\n",
       "      continentExp  Cumulative_number_for_14_days_of_COVID-19_cases_per_100000  \n",
       "0             Asia                                           9.013779           \n",
       "1             Asia                                           7.052776           \n",
       "2             Asia                                           6.868768           \n",
       "3             Asia                                           7.134266           \n",
       "4             Asia                                           6.968658           \n",
       "...            ...                                                ...           \n",
       "61895       Africa                                                NaN           \n",
       "61896       Africa                                                NaN           \n",
       "61897       Africa                                                NaN           \n",
       "61898       Africa                                                NaN           \n",
       "61899       Africa                                                NaN           \n",
       "\n",
       "[61900 rows x 12 columns]"
      ]
     },
     "execution_count": 7,
     "metadata": {},
     "output_type": "execute_result"
    }
   ],
   "source": [
    "df = pandas.read_excel('s3://acord-ia-241-sec1/covid_data.xls')\n",
    "df[:]"
   ]
  },
  {
   "cell_type": "markdown",
   "id": "74ac623f",
   "metadata": {},
   "source": [
    "## What is this data and What I am doing with it?"
   ]
  },
  {
   "cell_type": "markdown",
   "id": "713ffb0e",
   "metadata": {},
   "source": [
    "The data collected in this table is the deaths of Covid-19, including the days they happened as well as the months. In this project I am hoping to use this data to: Find out which month had the most Covid-19 Deaths, which day had the most Covid-19 deaths, and the correlation between how many confirmed Covid-19 cases and the amount of cases result in deaths. "
   ]
  },
  {
   "cell_type": "markdown",
   "id": "05e18fb6",
   "metadata": {},
   "source": [
    "## List of All Potential Countries and Territories"
   ]
  },
  {
   "cell_type": "code",
   "execution_count": 6,
   "id": "afae32ac",
   "metadata": {},
   "outputs": [
    {
     "data": {
      "text/plain": [
       "array(['Afghanistan', 'Albania', 'Algeria', 'Andorra', 'Angola',\n",
       "       'Anguilla', 'Antigua_and_Barbuda', 'Argentina', 'Armenia', 'Aruba',\n",
       "       'Australia', 'Austria', 'Azerbaijan', 'Bahamas', 'Bahrain',\n",
       "       'Bangladesh', 'Barbados', 'Belarus', 'Belgium', 'Belize', 'Benin',\n",
       "       'Bermuda', 'Bhutan', 'Bolivia',\n",
       "       'Bonaire, Saint Eustatius and Saba', 'Bosnia_and_Herzegovina',\n",
       "       'Botswana', 'Brazil', 'British_Virgin_Islands',\n",
       "       'Brunei_Darussalam', 'Bulgaria', 'Burkina_Faso', 'Burundi',\n",
       "       'Cambodia', 'Cameroon', 'Canada', 'Cape_Verde',\n",
       "       'Cases_on_an_international_conveyance_Japan', 'Cayman_Islands',\n",
       "       'Central_African_Republic', 'Chad', 'Chile', 'China', 'Colombia',\n",
       "       'Comoros', 'Congo', 'Costa_Rica', 'Cote_dIvoire', 'Croatia',\n",
       "       'Cuba', 'CuraÃ§ao', 'Cyprus', 'Czechia',\n",
       "       'Democratic_Republic_of_the_Congo', 'Denmark', 'Djibouti',\n",
       "       'Dominica', 'Dominican_Republic', 'Ecuador', 'Egypt',\n",
       "       'El_Salvador', 'Equatorial_Guinea', 'Eritrea', 'Estonia',\n",
       "       'Eswatini', 'Ethiopia', 'Falkland_Islands_(Malvinas)',\n",
       "       'Faroe_Islands', 'Fiji', 'Finland', 'France', 'French_Polynesia',\n",
       "       'Gabon', 'Gambia', 'Georgia', 'Germany', 'Ghana', 'Gibraltar',\n",
       "       'Greece', 'Greenland', 'Grenada', 'Guam', 'Guatemala', 'Guernsey',\n",
       "       'Guinea', 'Guinea_Bissau', 'Guyana', 'Haiti', 'Holy_See',\n",
       "       'Honduras', 'Hungary', 'Iceland', 'India', 'Indonesia', 'Iran',\n",
       "       'Iraq', 'Ireland', 'Isle_of_Man', 'Israel', 'Italy', 'Jamaica',\n",
       "       'Japan', 'Jersey', 'Jordan', 'Kazakhstan', 'Kenya', 'Kosovo',\n",
       "       'Kuwait', 'Kyrgyzstan', 'Laos', 'Latvia', 'Lebanon', 'Lesotho',\n",
       "       'Liberia', 'Libya', 'Liechtenstein', 'Lithuania', 'Luxembourg',\n",
       "       'Madagascar', 'Malawi', 'Malaysia', 'Maldives', 'Mali', 'Malta',\n",
       "       'Marshall_Islands', 'Mauritania', 'Mauritius', 'Mexico', 'Moldova',\n",
       "       'Monaco', 'Mongolia', 'Montenegro', 'Montserrat', 'Morocco',\n",
       "       'Mozambique', 'Myanmar', 'Namibia', 'Nepal', 'Netherlands',\n",
       "       'New_Caledonia', 'New_Zealand', 'Nicaragua', 'Niger', 'Nigeria',\n",
       "       'North_Macedonia', 'Northern_Mariana_Islands', 'Norway', 'Oman',\n",
       "       'Pakistan', 'Palestine', 'Panama', 'Papua_New_Guinea', 'Paraguay',\n",
       "       'Peru', 'Philippines', 'Poland', 'Portugal', 'Puerto_Rico',\n",
       "       'Qatar', 'Romania', 'Russia', 'Rwanda', 'Saint_Kitts_and_Nevis',\n",
       "       'Saint_Lucia', 'Saint_Vincent_and_the_Grenadines', 'San_Marino',\n",
       "       'Sao_Tome_and_Principe', 'Saudi_Arabia', 'Senegal', 'Serbia',\n",
       "       'Seychelles', 'Sierra_Leone', 'Singapore', 'Sint_Maarten',\n",
       "       'Slovakia', 'Slovenia', 'Solomon_Islands', 'Somalia',\n",
       "       'South_Africa', 'South_Korea', 'South_Sudan', 'Spain', 'Sri_Lanka',\n",
       "       'Sudan', 'Suriname', 'Sweden', 'Switzerland', 'Syria', 'Taiwan',\n",
       "       'Tajikistan', 'Thailand', 'Timor_Leste', 'Togo',\n",
       "       'Trinidad_and_Tobago', 'Tunisia', 'Turkey',\n",
       "       'Turks_and_Caicos_islands', 'Uganda', 'Ukraine',\n",
       "       'United_Arab_Emirates', 'United_Kingdom',\n",
       "       'United_Republic_of_Tanzania', 'United_States_of_America',\n",
       "       'United_States_Virgin_Islands', 'Uruguay', 'Uzbekistan', 'Vanuatu',\n",
       "       'Venezuela', 'Vietnam', 'Wallis_and_Futuna', 'Western_Sahara',\n",
       "       'Yemen', 'Zambia', 'Zimbabwe'], dtype=object)"
      ]
     },
     "execution_count": 6,
     "metadata": {},
     "output_type": "execute_result"
    }
   ],
   "source": [
    "pandas.unique(df['countriesAndTerritories'])"
   ]
  },
  {
   "cell_type": "markdown",
   "id": "0946cb9f",
   "metadata": {},
   "source": [
    "My focus this year in my classes has been Latin and South American, specifically how the cartels in that region have been effected by Covid-19. One of the major countries in the Latin and South America drug trade is Colombia, the number one producer of cocaine in the world, and that is the country I have selected to analysis. "
   ]
  },
  {
   "cell_type": "markdown",
   "id": "5ad4c312",
   "metadata": {},
   "source": [
    "## Colombia's Covid-19 Data"
   ]
  },
  {
   "cell_type": "code",
   "execution_count": 8,
   "id": "c0b419dd",
   "metadata": {},
   "outputs": [
    {
     "data": {
      "text/html": [
       "<div>\n",
       "<style scoped>\n",
       "    .dataframe tbody tr th:only-of-type {\n",
       "        vertical-align: middle;\n",
       "    }\n",
       "\n",
       "    .dataframe tbody tr th {\n",
       "        vertical-align: top;\n",
       "    }\n",
       "\n",
       "    .dataframe thead th {\n",
       "        text-align: right;\n",
       "    }\n",
       "</style>\n",
       "<table border=\"1\" class=\"dataframe\">\n",
       "  <thead>\n",
       "    <tr style=\"text-align: right;\">\n",
       "      <th></th>\n",
       "      <th>dateRep</th>\n",
       "      <th>day</th>\n",
       "      <th>month</th>\n",
       "      <th>year</th>\n",
       "      <th>cases</th>\n",
       "      <th>deaths</th>\n",
       "      <th>countriesAndTerritories</th>\n",
       "      <th>geoId</th>\n",
       "      <th>countryterritoryCode</th>\n",
       "      <th>popData2019</th>\n",
       "      <th>continentExp</th>\n",
       "      <th>Cumulative_number_for_14_days_of_COVID-19_cases_per_100000</th>\n",
       "    </tr>\n",
       "  </thead>\n",
       "  <tbody>\n",
       "    <tr>\n",
       "      <th>12448</th>\n",
       "      <td>14/12/2020</td>\n",
       "      <td>14</td>\n",
       "      <td>12</td>\n",
       "      <td>2020</td>\n",
       "      <td>8702</td>\n",
       "      <td>187</td>\n",
       "      <td>Colombia</td>\n",
       "      <td>CO</td>\n",
       "      <td>COL</td>\n",
       "      <td>50339443.0</td>\n",
       "      <td>America</td>\n",
       "      <td>233.212751</td>\n",
       "    </tr>\n",
       "    <tr>\n",
       "      <th>12449</th>\n",
       "      <td>13/12/2020</td>\n",
       "      <td>13</td>\n",
       "      <td>12</td>\n",
       "      <td>2020</td>\n",
       "      <td>8163</td>\n",
       "      <td>197</td>\n",
       "      <td>Colombia</td>\n",
       "      <td>CO</td>\n",
       "      <td>COL</td>\n",
       "      <td>50339443.0</td>\n",
       "      <td>America</td>\n",
       "      <td>233.333929</td>\n",
       "    </tr>\n",
       "    <tr>\n",
       "      <th>12450</th>\n",
       "      <td>2020-12-12 00:00:00</td>\n",
       "      <td>12</td>\n",
       "      <td>12</td>\n",
       "      <td>2020</td>\n",
       "      <td>8998</td>\n",
       "      <td>185</td>\n",
       "      <td>Colombia</td>\n",
       "      <td>CO</td>\n",
       "      <td>COL</td>\n",
       "      <td>50339443.0</td>\n",
       "      <td>America</td>\n",
       "      <td>235.201252</td>\n",
       "    </tr>\n",
       "    <tr>\n",
       "      <th>12451</th>\n",
       "      <td>2020-11-12 00:00:00</td>\n",
       "      <td>11</td>\n",
       "      <td>12</td>\n",
       "      <td>2020</td>\n",
       "      <td>7778</td>\n",
       "      <td>176</td>\n",
       "      <td>Colombia</td>\n",
       "      <td>CO</td>\n",
       "      <td>COL</td>\n",
       "      <td>50339443.0</td>\n",
       "      <td>America</td>\n",
       "      <td>237.237428</td>\n",
       "    </tr>\n",
       "    <tr>\n",
       "      <th>12452</th>\n",
       "      <td>2020-10-12 00:00:00</td>\n",
       "      <td>10</td>\n",
       "      <td>12</td>\n",
       "      <td>2020</td>\n",
       "      <td>7523</td>\n",
       "      <td>150</td>\n",
       "      <td>Colombia</td>\n",
       "      <td>CO</td>\n",
       "      <td>COL</td>\n",
       "      <td>50339443.0</td>\n",
       "      <td>America</td>\n",
       "      <td>240.650259</td>\n",
       "    </tr>\n",
       "    <tr>\n",
       "      <th>...</th>\n",
       "      <td>...</td>\n",
       "      <td>...</td>\n",
       "      <td>...</td>\n",
       "      <td>...</td>\n",
       "      <td>...</td>\n",
       "      <td>...</td>\n",
       "      <td>...</td>\n",
       "      <td>...</td>\n",
       "      <td>...</td>\n",
       "      <td>...</td>\n",
       "      <td>...</td>\n",
       "      <td>...</td>\n",
       "    </tr>\n",
       "    <tr>\n",
       "      <th>12722</th>\n",
       "      <td>15/03/2020</td>\n",
       "      <td>15</td>\n",
       "      <td>3</td>\n",
       "      <td>2020</td>\n",
       "      <td>18</td>\n",
       "      <td>0</td>\n",
       "      <td>Colombia</td>\n",
       "      <td>CO</td>\n",
       "      <td>COL</td>\n",
       "      <td>50339443.0</td>\n",
       "      <td>America</td>\n",
       "      <td>NaN</td>\n",
       "    </tr>\n",
       "    <tr>\n",
       "      <th>12723</th>\n",
       "      <td>14/03/2020</td>\n",
       "      <td>14</td>\n",
       "      <td>3</td>\n",
       "      <td>2020</td>\n",
       "      <td>7</td>\n",
       "      <td>0</td>\n",
       "      <td>Colombia</td>\n",
       "      <td>CO</td>\n",
       "      <td>COL</td>\n",
       "      <td>50339443.0</td>\n",
       "      <td>America</td>\n",
       "      <td>NaN</td>\n",
       "    </tr>\n",
       "    <tr>\n",
       "      <th>12724</th>\n",
       "      <td>2020-12-03 00:00:00</td>\n",
       "      <td>12</td>\n",
       "      <td>3</td>\n",
       "      <td>2020</td>\n",
       "      <td>6</td>\n",
       "      <td>0</td>\n",
       "      <td>Colombia</td>\n",
       "      <td>CO</td>\n",
       "      <td>COL</td>\n",
       "      <td>50339443.0</td>\n",
       "      <td>America</td>\n",
       "      <td>NaN</td>\n",
       "    </tr>\n",
       "    <tr>\n",
       "      <th>12725</th>\n",
       "      <td>2020-10-03 00:00:00</td>\n",
       "      <td>10</td>\n",
       "      <td>3</td>\n",
       "      <td>2020</td>\n",
       "      <td>2</td>\n",
       "      <td>0</td>\n",
       "      <td>Colombia</td>\n",
       "      <td>CO</td>\n",
       "      <td>COL</td>\n",
       "      <td>50339443.0</td>\n",
       "      <td>America</td>\n",
       "      <td>NaN</td>\n",
       "    </tr>\n",
       "    <tr>\n",
       "      <th>12726</th>\n",
       "      <td>2020-07-03 00:00:00</td>\n",
       "      <td>7</td>\n",
       "      <td>3</td>\n",
       "      <td>2020</td>\n",
       "      <td>1</td>\n",
       "      <td>0</td>\n",
       "      <td>Colombia</td>\n",
       "      <td>CO</td>\n",
       "      <td>COL</td>\n",
       "      <td>50339443.0</td>\n",
       "      <td>America</td>\n",
       "      <td>NaN</td>\n",
       "    </tr>\n",
       "  </tbody>\n",
       "</table>\n",
       "<p>279 rows × 12 columns</p>\n",
       "</div>"
      ],
      "text/plain": [
       "                   dateRep  day  month  year  cases  deaths  \\\n",
       "12448           14/12/2020   14     12  2020   8702     187   \n",
       "12449           13/12/2020   13     12  2020   8163     197   \n",
       "12450  2020-12-12 00:00:00   12     12  2020   8998     185   \n",
       "12451  2020-11-12 00:00:00   11     12  2020   7778     176   \n",
       "12452  2020-10-12 00:00:00   10     12  2020   7523     150   \n",
       "...                    ...  ...    ...   ...    ...     ...   \n",
       "12722           15/03/2020   15      3  2020     18       0   \n",
       "12723           14/03/2020   14      3  2020      7       0   \n",
       "12724  2020-12-03 00:00:00   12      3  2020      6       0   \n",
       "12725  2020-10-03 00:00:00   10      3  2020      2       0   \n",
       "12726  2020-07-03 00:00:00    7      3  2020      1       0   \n",
       "\n",
       "      countriesAndTerritories geoId countryterritoryCode  popData2019  \\\n",
       "12448                Colombia    CO                  COL   50339443.0   \n",
       "12449                Colombia    CO                  COL   50339443.0   \n",
       "12450                Colombia    CO                  COL   50339443.0   \n",
       "12451                Colombia    CO                  COL   50339443.0   \n",
       "12452                Colombia    CO                  COL   50339443.0   \n",
       "...                       ...   ...                  ...          ...   \n",
       "12722                Colombia    CO                  COL   50339443.0   \n",
       "12723                Colombia    CO                  COL   50339443.0   \n",
       "12724                Colombia    CO                  COL   50339443.0   \n",
       "12725                Colombia    CO                  COL   50339443.0   \n",
       "12726                Colombia    CO                  COL   50339443.0   \n",
       "\n",
       "      continentExp  Cumulative_number_for_14_days_of_COVID-19_cases_per_100000  \n",
       "12448      America                                         233.212751           \n",
       "12449      America                                         233.333929           \n",
       "12450      America                                         235.201252           \n",
       "12451      America                                         237.237428           \n",
       "12452      America                                         240.650259           \n",
       "...            ...                                                ...           \n",
       "12722      America                                                NaN           \n",
       "12723      America                                                NaN           \n",
       "12724      America                                                NaN           \n",
       "12725      America                                                NaN           \n",
       "12726      America                                                NaN           \n",
       "\n",
       "[279 rows x 12 columns]"
      ]
     },
     "execution_count": 8,
     "metadata": {},
     "output_type": "execute_result"
    }
   ],
   "source": [
    " colombia_data = df.loc[df['countriesAndTerritories'] == 'Colombia']\n",
    "colombia_data[:]"
   ]
  },
  {
   "cell_type": "markdown",
   "id": "21f7b2b7",
   "metadata": {},
   "source": [
    "## Trend thorughout 2020"
   ]
  },
  {
   "cell_type": "code",
   "execution_count": 16,
   "id": "70a7e5b4",
   "metadata": {},
   "outputs": [
    {
     "data": {
      "text/plain": [
       "<AxesSubplot:xlabel='dateRep'>"
      ]
     },
     "execution_count": 16,
     "metadata": {},
     "output_type": "execute_result"
    },
    {
     "data": {
      "image/png": "[encoded data removed]",
      "text/plain": [
       "<Figure size 432x288 with 1 Axes>"
      ]
     },
     "metadata": {
      "needs_background": "light"
     },
     "output_type": "display_data"
    }
   ],
   "source": [
    "colo_case_by_date = df.groupby('dateRep').sum()['cases']\n",
    "colo_case_by_date.plot()"
   ]
  },
  {
   "cell_type": "markdown",
   "id": "2cb47540",
   "metadata": {},
   "source": [
    "This line graph describes the trend of cases in colombia from January 2020 to December 2020. It appears the cases on Colombia had a continued pattern of spiking extremely high to dropping dramatically low. "
   ]
  },
  {
   "cell_type": "markdown",
   "id": "cfe2ca4c",
   "metadata": {},
   "source": [
    "## How the Number of Cases is Related to the Number of Deaths"
   ]
  },
  {
   "cell_type": "code",
   "execution_count": 11,
   "id": "c8aa9d56",
   "metadata": {},
   "outputs": [
    {
     "data": {
      "text/plain": [
       "<AxesSubplot:xlabel='cases', ylabel='deaths'>"
      ]
     },
     "execution_count": 11,
     "metadata": {},
     "output_type": "execute_result"
    },
    {
     "data": {
      "image/png": "[encoded data removed]",
      "text/plain": [
       "<Figure size 432x288 with 1 Axes>"
      ]
     },
     "metadata": {
      "needs_background": "light"
     },
     "output_type": "display_data"
    }
   ],
   "source": [
    "colombia_data.plot.scatter(x='cases',y='deaths')"
   ]
  },
  {
   "cell_type": "markdown",
   "id": "ae43e1c8",
   "metadata": {},
   "source": [
    "This scatter plot shows the correlation between the number of Covid-19 cases compared to the number of deaths as a result of Covid-19. It looks like as the number of Covid-19 cases went up, that the number of Covid-19 caused deaths steadily rose as well. "
   ]
  },
  {
   "cell_type": "markdown",
   "id": "6c6bbc71",
   "metadata": {},
   "source": [
    "## What month saw the most Covid-19 cases?"
   ]
  },
  {
   "cell_type": "code",
   "execution_count": 12,
   "id": "4ac68948",
   "metadata": {},
   "outputs": [
    {
     "data": {
      "text/plain": [
       "<AxesSubplot:xlabel='month'>"
      ]
     },
     "execution_count": 12,
     "metadata": {},
     "output_type": "execute_result"
    },
    {
     "data": {
      "image/png": "[encoded data removed]",
      "text/plain": [
       "<Figure size 432x288 with 1 Axes>"
      ]
     },
     "metadata": {
      "needs_background": "light"
     },
     "output_type": "display_data"
    }
   ],
   "source": [
    "sum_death_by_month = df.groupby('month').sum()['deaths']\n",
    "sum_death_by_month.nlargest(12).plot.bar()"
   ]
  },
  {
   "cell_type": "markdown",
   "id": "2596ce2e",
   "metadata": {},
   "source": [
    "This bar graph shows the amount of Covid-19 deaths in each month of 2020. This date displays that the month that experienced the most deaths was November, by a long shot. "
   ]
  },
  {
   "cell_type": "markdown",
   "id": "4911f1a8",
   "metadata": {},
   "source": [
    "## What Day saw the most Covid-19 cases?"
   ]
  },
  {
   "cell_type": "code",
   "execution_count": 11,
   "id": "8bde00c4",
   "metadata": {},
   "outputs": [
    {
     "data": {
      "text/plain": [
       "<AxesSubplot:xlabel='day'>"
      ]
     },
     "execution_count": 11,
     "metadata": {},
     "output_type": "execute_result"
    },
    {
     "data": {
      "image/png": "[encoded data removed]",
      "text/plain": [
       "<Figure size 432x288 with 1 Axes>"
      ]
     },
     "metadata": {
      "needs_background": "light"
     },
     "output_type": "display_data"
    }
   ],
   "source": [
    "sum_cases_by_day = colombia_data.groupby('day').sum()['cases']\n",
    "sum_cases_by_day.plot()"
   ]
  },
  {
   "cell_type": "markdown",
   "id": "a17b7cc7",
   "metadata": {},
   "source": [
    "This line graph displays the cases of Covid-19 over time in the data that was collected. Of the data collected it appears that the day that experienced the most Covid-19 cases, the 13th day say the most cases. "
   ]
  }
 ],
 "metadata": {
  "kernelspec": {
   "display_name": "conda_python3",
   "language": "python",
   "name": "conda_python3"
  },
  "language_info": {
   "codemirror_mode": {
    "name": "ipython",
    "version": 3
   },
   "file_extension": ".py",
   "mimetype": "text/x-python",
   "name": "python",
   "nbconvert_exporter": "python",
   "pygments_lexer": "ipython3",
   "version": "3.6.13"
  }
 },
 "nbformat": 4,
 "nbformat_minor": 5
}
